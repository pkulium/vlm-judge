{
 "cells": [
  {
   "cell_type": "code",
   "execution_count": 2,
   "metadata": {},
   "outputs": [],
   "source": [
    "# This notebook will guide you to make correct format of Huggingface dataset, in proper parquet format and visualizable in Huggingface dataset hub.\n",
    "# We will take the example of the dataset \"Otter-AI/MMVet\" and convert it to the proper format."
   ]
  },
  {
   "cell_type": "code",
   "execution_count": 3,
   "metadata": {},
   "outputs": [],
   "source": [
    "import json\n",
    "\n",
    "with open('../tmp/batch.json') as f:\n",
    "    data = json.load(f)"
   ]
  },
  {
   "cell_type": "code",
   "execution_count": 4,
   "metadata": {},
   "outputs": [],
   "source": [
    "data_new = {'score': {}, 'pair':{}, 'refer':{}}\n",
    "\n",
    "for key, val in data.items():\n",
    "    ids = list(val.keys())\n",
    "    data_new['score'][key] = {id: val[id] for id in ids[:len(ids) // 2]}\n",
    "    data_new['pair'][key] = {id: val[id] for id in ids[len(ids) // 2: len(ids) // 2 + len(ids) // 4]}\n",
    "    data_new['refer'][key] = {id: val[id] for id in ids[len(ids) // 2 + len(ids) // 4:]}"
   ]
  },
  {
   "cell_type": "code",
   "execution_count": 5,
   "metadata": {},
   "outputs": [
    {
     "data": {
      "text/plain": [
       "dict_keys(['cvrr_continuity_and_object_instance_count', 'cvrr_fine_grained_action_understanding', 'cvrr_interpretation_of_social_context', 'cvrr_interpretation_of_visual_context', 'cvrr_multiple_actions_in_a_single_video', 'cvrr_non_existent_actions_with_existent_scene_depictions', 'cvrr_non_existent_actions_with_non_existent_scene_depictions', 'cvrr_partial_actions', 'cvrr_time_order_understanding', 'cvrr_understanding_emotional_context', 'cvrr_unusual_and_physically_anomalous_activities', 'youcook2_val', 'vatex_test', 'videochatgpt_gen'])"
      ]
     },
     "execution_count": 5,
     "metadata": {},
     "output_type": "execute_result"
    }
   ],
   "source": [
    "data.keys()"
   ]
  },
  {
   "cell_type": "code",
   "execution_count": 6,
   "metadata": {},
   "outputs": [],
   "source": [
    "# from datasets import Dataset, Features, Value, Image\n",
    "# import pandas as pd\n",
    "# from tqdm import tqdm\n",
    "# import os\n",
    "\n",
    "# # Define the features for the dataset\n",
    "# features = Features(\n",
    "#     {\n",
    "#         \"id\": Value(dtype=\"string\"),\n",
    "#         \"Q\": Value(dtype=\"string\"),\n",
    "#         \"A\": Value(dtype=\"string\"),\n",
    "#         \"DimensionName\": Value(dtype=\"string\"),\n",
    "#         \"model\": Value(dtype=\"string\"),\n",
    "#     }\n",
    "# )\n",
    "\n",
    "df_items = {\n",
    "    \"id\": [],\n",
    "    \"Q\": [],\n",
    "    \"A\": [],\n",
    "    \"DimensionName\": [],\n",
    "    \"model\": [],\n",
    "}"
   ]
  },
  {
   "cell_type": "code",
   "execution_count": 13,
   "metadata": {},
   "outputs": [
    {
     "name": "stdout",
     "output_type": "stream",
     "text": [
      "/Volumes/work/LAS/wzhang-lab/mingl/cache/cvrr-es/CVRR-ES/continuity_and_object_instance_count/annotations_continuity_and_object_instance_count.json\n",
      "/Volumes/work/LAS/wzhang-lab/mingl/cache/cvrr-es/CVRR-ES/fine_grained_action_understanding/annotations_fine_grained_action_understanding.json\n",
      "/Volumes/work/LAS/wzhang-lab/mingl/cache/cvrr-es/CVRR-ES/interpretation_of_social_context/annotations_interpretation_of_social_context.json\n",
      "/Volumes/work/LAS/wzhang-lab/mingl/cache/cvrr-es/CVRR-ES/interpretation_of_visual_context/annotations_interpretation_of_visual_context.json\n",
      "/Volumes/work/LAS/wzhang-lab/mingl/cache/cvrr-es/CVRR-ES/multiple_actions_in_a_single_video/annotations_multiple_actions_in_a_single_video.json\n",
      "/Volumes/work/LAS/wzhang-lab/mingl/cache/cvrr-es/CVRR-ES/non_existent_actions_with_existent_scene_depictions/annotations_non_existent_actions_with_existent_scene_depictions.json\n",
      "/Volumes/work/LAS/wzhang-lab/mingl/cache/cvrr-es/CVRR-ES/non_existent_actions_with_non_existent_scene_depictions/annotations_non_existent_actions_with_non_existent_scene_depictions.json\n",
      "/Volumes/work/LAS/wzhang-lab/mingl/cache/cvrr-es/CVRR-ES/partial_actions/annotations_partial_actions.json\n",
      "/Volumes/work/LAS/wzhang-lab/mingl/cache/cvrr-es/CVRR-ES/time_order_understanding/annotations_time_order_understanding.json\n",
      "/Volumes/work/LAS/wzhang-lab/mingl/cache/cvrr-es/CVRR-ES/understanding_emotional_context/annotations_understanding_emotional_context.json\n",
      "/Volumes/work/LAS/wzhang-lab/mingl/cache/cvrr-es/CVRR-ES/unusual_and_physically_anomalous_activities/annotations_unusual_and_physically_anomalous_activities.json\n"
     ]
    },
    {
     "ename": "FileNotFoundError",
     "evalue": "[Errno 2] No such file or directory: ''",
     "output_type": "error",
     "traceback": [
      "\u001b[0;31m---------------------------------------------------------------------------\u001b[0m",
      "\u001b[0;31mFileNotFoundError\u001b[0m                         Traceback (most recent call last)",
      "Cell \u001b[0;32mIn[13], line 7\u001b[0m\n\u001b[1;32m      5\u001b[0m \u001b[38;5;28;01melse\u001b[39;00m:\n\u001b[1;32m      6\u001b[0m     description_root \u001b[38;5;241m=\u001b[39m \u001b[38;5;124m'\u001b[39m\u001b[38;5;124m'\u001b[39m\n\u001b[0;32m----> 7\u001b[0m \u001b[38;5;28;01mwith\u001b[39;00m \u001b[38;5;28;43mopen\u001b[39;49m\u001b[43m(\u001b[49m\u001b[43mdescription_root\u001b[49m\u001b[43m)\u001b[49m \u001b[38;5;28;01mas\u001b[39;00m f:\n\u001b[1;32m      8\u001b[0m     description \u001b[38;5;241m=\u001b[39m json\u001b[38;5;241m.\u001b[39mload(f)\n\u001b[1;32m      9\u001b[0m \u001b[38;5;28;01mfor\u001b[39;00m \u001b[38;5;28mid\u001b[39m, content \u001b[38;5;129;01min\u001b[39;00m all_content\u001b[38;5;241m.\u001b[39mitems():\n",
      "File \u001b[0;32m~/opt/miniconda3/envs/autogpt/lib/python3.10/site-packages/IPython/core/interactiveshell.py:324\u001b[0m, in \u001b[0;36m_modified_open\u001b[0;34m(file, *args, **kwargs)\u001b[0m\n\u001b[1;32m    317\u001b[0m \u001b[38;5;28;01mif\u001b[39;00m file \u001b[38;5;129;01min\u001b[39;00m {\u001b[38;5;241m0\u001b[39m, \u001b[38;5;241m1\u001b[39m, \u001b[38;5;241m2\u001b[39m}:\n\u001b[1;32m    318\u001b[0m     \u001b[38;5;28;01mraise\u001b[39;00m \u001b[38;5;167;01mValueError\u001b[39;00m(\n\u001b[1;32m    319\u001b[0m         \u001b[38;5;124mf\u001b[39m\u001b[38;5;124m\"\u001b[39m\u001b[38;5;124mIPython won\u001b[39m\u001b[38;5;124m'\u001b[39m\u001b[38;5;124mt let you open fd=\u001b[39m\u001b[38;5;132;01m{\u001b[39;00mfile\u001b[38;5;132;01m}\u001b[39;00m\u001b[38;5;124m by default \u001b[39m\u001b[38;5;124m\"\u001b[39m\n\u001b[1;32m    320\u001b[0m         \u001b[38;5;124m\"\u001b[39m\u001b[38;5;124mas it is likely to crash IPython. If you know what you are doing, \u001b[39m\u001b[38;5;124m\"\u001b[39m\n\u001b[1;32m    321\u001b[0m         \u001b[38;5;124m\"\u001b[39m\u001b[38;5;124myou can use builtins\u001b[39m\u001b[38;5;124m'\u001b[39m\u001b[38;5;124m open.\u001b[39m\u001b[38;5;124m\"\u001b[39m\n\u001b[1;32m    322\u001b[0m     )\n\u001b[0;32m--> 324\u001b[0m \u001b[38;5;28;01mreturn\u001b[39;00m \u001b[43mio_open\u001b[49m\u001b[43m(\u001b[49m\u001b[43mfile\u001b[49m\u001b[43m,\u001b[49m\u001b[43m \u001b[49m\u001b[38;5;241;43m*\u001b[39;49m\u001b[43margs\u001b[49m\u001b[43m,\u001b[49m\u001b[43m \u001b[49m\u001b[38;5;241;43m*\u001b[39;49m\u001b[38;5;241;43m*\u001b[39;49m\u001b[43mkwargs\u001b[49m\u001b[43m)\u001b[49m\n",
      "\u001b[0;31mFileNotFoundError\u001b[0m: [Errno 2] No such file or directory: ''"
     ]
    }
   ],
   "source": [
    "for dataset, all_content in data_new['score'].items():\n",
    "    if 'cvrr_' in dataset:\n",
    "        description_root = f\"/work/LAS/wzhang-lab/mingl/cache/hub/{dataset[len('cvrr_'):]}/annotations_{dataset[len('cvrr_'):]}.json\"\n",
    "        print(description_root)\n",
    "    else:\n",
    "        description_root = ''\n",
    "    with open(description_root) as f:\n",
    "        description = json.load(f)\n",
    "    for id, content in all_content.items():\n",
    "        for model, response in content.items():\n",
    "            id = int(id)\n",
    "            q = description[id]['Q']\n",
    "            a = response\n",
    "            Q = f\"\"\"Here is a question and a response related to the video, you need to rate the response on a scale (0-5) based on the video:\n",
    "                    Question:{q}\n",
    "                    Answer from Assitant: {a}\n",
    "                    You review: \n",
    "                \"\"\"   \n",
    "            df_items[\"id\"].append(id)\n",
    "            df_items[\"Q\"].append(Q)\n",
    "            df_items[\"DimensionName\"].append(description)\n",
    "            df_items[\"model\"].append(model)"
   ]
  },
  {
   "cell_type": "code",
   "execution_count": 15,
   "metadata": {},
   "outputs": [
    {
     "ename": "AttributeError",
     "evalue": "'dict' object has no attribute 'head'",
     "output_type": "error",
     "traceback": [
      "\u001b[0;31m---------------------------------------------------------------------------\u001b[0m",
      "\u001b[0;31mAttributeError\u001b[0m                            Traceback (most recent call last)",
      "Cell \u001b[0;32mIn[15], line 1\u001b[0m\n\u001b[0;32m----> 1\u001b[0m \u001b[43mdf_items\u001b[49m\u001b[38;5;241;43m.\u001b[39;49m\u001b[43mhead\u001b[49m()\n",
      "\u001b[0;31mAttributeError\u001b[0m: 'dict' object has no attribute 'head'"
     ]
    }
   ],
   "source": [
    "df_items.head()"
   ]
  },
  {
   "cell_type": "code",
   "execution_count": null,
   "metadata": {},
   "outputs": [],
   "source": [
    "dataset = Dataset.from_pandas(df_items, features=features)"
   ]
  },
  {
   "cell_type": "code",
   "execution_count": null,
   "metadata": {},
   "outputs": [],
   "source": [
    "hub_dataset_path = \"lmms-lab/VideoDetailDescription\"\n",
    "dataset.push_to_hub(repo_id=hub_dataset_path, split=\"test\")"
   ]
  },
  {
   "cell_type": "code",
   "execution_count": null,
   "metadata": {},
   "outputs": [],
   "source": []
  }
 ],
 "metadata": {
  "kernelspec": {
   "display_name": "lmms-eval",
   "language": "python",
   "name": "python3"
  },
  "language_info": {
   "codemirror_mode": {
    "name": "ipython",
    "version": 3
   },
   "file_extension": ".py",
   "mimetype": "text/x-python",
   "name": "python",
   "nbconvert_exporter": "python",
   "pygments_lexer": "ipython3",
   "version": "3.10.14"
  }
 },
 "nbformat": 4,
 "nbformat_minor": 2
}
